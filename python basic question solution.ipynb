{
 "cells": [
  {
   "cell_type": "markdown",
   "id": "b8549c51-69b8-400c-8dd0-ea1c955dd9e4",
   "metadata": {},
   "source": [
    "# 1. What is python?"
   ]
  },
  {
   "cell_type": "raw",
   "id": "89c27332-2ab3-4529-80f4-e92bd9279690",
   "metadata": {},
   "source": [
    "Python is a high-level, interpreted programming language known for its simplicity, readability, and versatility. "
   ]
  },
  {
   "cell_type": "markdown",
   "id": "76865dda-60f3-4f8c-a369-27b898d67741",
   "metadata": {},
   "source": [
    "# 2. Tell me the areas where python is being used?"
   ]
  },
  {
   "cell_type": "raw",
   "id": "2c95cd05-86c0-44c7-8cd6-b90cd7de24b0",
   "metadata": {},
   "source": [
    "1.Web development (e.g., using Django, Flask)\n",
    "\n",
    "2.Data analysis and visualization (e.g., Pandas, Matplotlib)\n",
    "\n",
    "3.Machine learning and AI (e.g., TensorFlow, PyTorch)\n",
    "\n",
    "4.Automation and scripting\n",
    "\n",
    "5.Game development\n",
    "\n",
    "6.Desktop applications\n",
    "\n",
    "7.Scientific computing\n",
    "\n",
    "8.cyber security"
   ]
  },
  {
   "cell_type": "markdown",
   "id": "d6734f93-2bf0-43b4-8ec3-bfa8cab54dcf",
   "metadata": {},
   "source": [
    "# 3. What is high level and low-level language?"
   ]
  },
  {
   "cell_type": "raw",
   "id": "cb992b6a-a561-40ab-94bc-37d5c23f6517",
   "metadata": {},
   "source": [
    "1.High-Level Language: Close to human language                  1. Low-Level Language: Close to machine (computer) \n",
    "                                                                   \n",
    "2.Easy to read ,write,and understand                            2.language Harder to read and write and understand\n",
    "                                                                  \n",
    "3.Examples: Python, Java, C++, JavaScript                       3.Examples: Assembly language, Machine code (binary\n",
    "\n",
    "\n"
   ]
  },
  {
   "cell_type": "markdown",
   "id": "9c0590bb-cab2-4116-86b8-dac07a79536d",
   "metadata": {},
   "source": [
    "# 4. difference between interpreted language and compiled language?"
   ]
  },
  {
   "cell_type": "raw",
   "id": "96483cdc-eef1-4c51-86a2-2390607fa437",
   "metadata": {},
   "source": [
    "1.Feature            \tInterpreted Language\t          Compiled Language\n",
    "2.Code Execution\t    Line by line (while running)\t  Entire code is converted before running\n",
    "3.Speed\t            Slower\t                          Faster\n",
    "4.Errors\t            Shows errors one by one\tShows     all errors at once during compilation\n",
    "5.Flexibility      \tEasier to test and debug\t      Harder to test piece by piece\n",
    "6.Examples\t        Python, JavaScript, PHP\t          C, C++, Java (partially)"
   ]
  },
  {
   "cell_type": "markdown",
   "id": "d31339d0-71d2-4c57-b6c9-c7b09ccf520e",
   "metadata": {},
   "source": [
    "# 5. differnece between statically typed and dynamically typed language"
   ]
  },
  {
   "cell_type": "raw",
   "id": "d26f557b-ec1a-472d-9895-9d69b4437e03",
   "metadata": {},
   "source": [
    "1.Feature\t                Statically Typed\t                          Dynamically Typed\n",
    "2.Type declared\t            yes, before running the program\t              No, figured out during the program run\n",
    "3.Examples\t                Java, C, C++, Swift\t                          Python, JavaScript, Ruby\n",
    "4.Error detection         \tCatches type errors before running\t          May catch type errors while running\n",
    "5.Code safety\t            Safer, because types are checked early\t      More flexible, but can lead to hidden errors\n",
    "6.Code flexibility\t        Less flexible — type must match\t              More flexible — types can change\n",
    "7.Performance             \tOften faster (type known at compile time)     Often slower (type checked at runtime)\n",
    "8.Learning curve\t        Slightly harder — need to understand types    Easier for beginners — less strict with types"
   ]
  },
  {
   "cell_type": "markdown",
   "id": "7a4d39c0-ea96-41fe-b03a-cfd19d99333f",
   "metadata": {},
   "source": [
    "# 6. What is weakly typed?"
   ]
  },
  {
   "cell_type": "raw",
   "id": "8776256d-f08d-41e8-9ac3-0f868e36947c",
   "metadata": {},
   "source": [
    "A weakly typed language is more relaxed about mixing different types of data.It might automatically convert one type to another, even when it doesn't really make sense.\n",
    "Example: In JavaScript:\n",
    "\"5\" + 2 gives \"52\" (it turns the number 2 into text and joins it).\n",
    "\n",
    "This can lead to unexpected bugs."
   ]
  },
  {
   "cell_type": "markdown",
   "id": "2ea686fb-6adf-45ae-8f38-1ff0edc366f7",
   "metadata": {},
   "source": [
    "# 7. What is strongly typed?"
   ]
  },
  {
   "cell_type": "raw",
   "id": "fd312ebd-c6cc-44da-b737-bb990fe0f6d2",
   "metadata": {},
   "source": [
    "A strongly typed language is strict about data types.\n",
    "You can’t mix different types of data unless you convert them yourself.\n",
    "\n",
    "Example: In Python:\n",
    "\"5\" + 2 will give an error — you have to convert one to match the other."
   ]
  },
  {
   "cell_type": "markdown",
   "id": "58c06eae-8973-4a85-8a4c-d8b4b14476b5",
   "metadata": {},
   "source": [
    "# 8. What is .PYC file (Byte code)?"
   ]
  },
  {
   "cell_type": "raw",
   "id": "d16805d7-2977-4e71-9b8e-b7b876cdee99",
   "metadata": {},
   "source": [
    "A .pyc file is a file that Python creates after it reads your .py (Python) code. It stands for \"Python Compiled\" and contains bytecode — a version of your code that the computer can run faster."
   ]
  },
  {
   "cell_type": "markdown",
   "id": "eaa49670-9c4a-4390-8cd5-8655bbf62905",
   "metadata": {},
   "source": [
    "# 9. What is PVM?"
   ]
  },
  {
   "cell_type": "code",
   "execution_count": null,
   "id": "18ccf56f-21cc-451e-a240-fd747e4ea2fe",
   "metadata": {},
   "outputs": [],
   "source": [
    "PVM stands for Python Virtual Machine.\n",
    "It’s the part of Python that actually runs your code."
   ]
  },
  {
   "cell_type": "markdown",
   "id": "a4161d9d-38ea-4e94-9fa8-5593aa872b77",
   "metadata": {},
   "source": [
    "# 10. How Python internally works?"
   ]
  },
  {
   "cell_type": "raw",
   "id": "f776f27e-2fb1-4e9b-ae97-326022550ffd",
   "metadata": {},
   "source": [
    "Step\t                         What happens\n",
    "1. Write Code\t                 You write .py file\n",
    "2. Compile to Bytecode\t         Python makes a .pyc file (bytecode)\n",
    "3. Run with PVM\t                 Python Virtual Machine runs the bytecode\n",
    "4. Show Output\t                 You see the result on your screen"
   ]
  },
  {
   "cell_type": "markdown",
   "id": "9aee4e92-3de2-4615-ab2b-9c966e6af567",
   "metadata": {},
   "source": [
    "# 11. What is PEP 8?"
   ]
  },
  {
   "cell_type": "raw",
   "id": "9d5d55b0-27ac-4114-8ed6-9e01a83e73c0",
   "metadata": {},
   "source": [
    "PEP 8 is the official style guide for writing Python code.\n",
    "It tells you how to write clean, readable, and consistent Python code \n",
    "like where to put spaces, how to name variables, how long lines should be, etc.\n",
    "PEP = Python Enhancement Proposal"
   ]
  },
  {
   "cell_type": "markdown",
   "id": "9eeb79d9-0b81-4335-883c-013edcdd74c3",
   "metadata": {},
   "source": [
    "# 12. What is PIP what is the use of PIP?"
   ]
  },
  {
   "cell_type": "raw",
   "id": "cedb081f-f08d-4ee1-94cb-19ecf1bd45c6",
   "metadata": {},
   "source": [
    "PIP stands for \"Pip Installs Packages\".\n",
    "It is the tool used to install and manage Python packages from the internet.\n",
    "A package is like an extra feature or tool someone else wrote — and you can add it to your own Python project."
   ]
  },
  {
   "cell_type": "markdown",
   "id": "2b42256d-b9a7-47e9-90bf-526ec293c689",
   "metadata": {},
   "source": [
    "# 13. What is Byte code and when is it created?"
   ]
  },
  {
   "cell_type": "raw",
   "id": "4dba9e0e-ba61-4ac6-ad4b-ab84284b8d3d",
   "metadata": {},
   "source": [
    "Bytecode is a simplified version of your Python code that Python creates before running it.\n",
    "It's not human-readable, but it's also not machine code (what the computer truly understands).\n",
    "It’s like an intermediate step between your .py file and actual execution."
   ]
  },
  {
   "cell_type": "markdown",
   "id": "03e9ad59-df57-4755-912e-9b33142a1abb",
   "metadata": {},
   "source": [
    "# 14. when byte code is created ?"
   ]
  },
  {
   "cell_type": "raw",
   "id": "26d5386b-cf29-42dc-b545-5ab335831f03",
   "metadata": {},
   "source": [
    "Bytecode is created automatically when you run a Python program.\n",
    "Python takes your .py file → compiles it into bytecode → stores it in a .pyc file (inside the __pycache__ folder).\n",
    "This makes your code run faster next time, since Python won’t need to re-translate it."
   ]
  },
  {
   "cell_type": "markdown",
   "id": "0a58b0df-aef9-46cc-bdf2-0e7bce3025d8",
   "metadata": {},
   "source": [
    "# 15. What is indentation in python? Does python relay on indentation?"
   ]
  },
  {
   "cell_type": "raw",
   "id": "e09756e9-54c8-4b73-954d-48849e8202d2",
   "metadata": {},
   "source": [
    "Indentation means adding spaces or tabs at the beginning of a line of code to show which lines belong together.\n",
    "In Python, indentation is not just for looks — it’s how Python knows what code is part of a block (like inside a function, loop, or if-statement)."
   ]
  },
  {
   "cell_type": "markdown",
   "id": "104e93a7-fedb-4ec8-89fd-d16f9e35f2d0",
   "metadata": {},
   "source": [
    "# 16. What is variable?"
   ]
  },
  {
   "cell_type": "raw",
   "id": "1764fa2d-d0d3-46fe-9a33-7b55343e1ae9",
   "metadata": {},
   "source": [
    "A variable is like a container or box that holds information (data) in a program.\n",
    "You give the variable a name, and then you can store a value inside it, like a number, text, or anything else."
   ]
  },
  {
   "cell_type": "markdown",
   "id": "5d704cb9-b821-4709-8b16-0b4d18cfd263",
   "metadata": {},
   "source": [
    "# 17. What are variable naming rules?"
   ]
  },
  {
   "cell_type": "raw",
   "id": "fa6ab40d-6a7d-4758-b67b-c1f9b2952975",
   "metadata": {},
   "source": [
    "1.Names can contain:\n",
    "\n",
    ".Letters (a to z, A to Z)\n",
    "\n",
    ".Numbers (0 to 9)\n",
    "\n",
    ".Underscores (_)\n",
    "\n",
    "2.Names must start with:\n",
    "\n",
    ".A letter or an underscore (_), not a number\n",
    "\n",
    "3.No spaces allowed in variable names.\n",
    ".Use underscores to separate words instead, like user_name.\n",
    "\n",
    "4.Case-sensitive:\n",
    "\n",
    ".Age, age, and AGE are different variables.\n",
    "\n",
    ".Cannot use Python keywords as variable names.\n",
    "(Keywords like if, for, while, class, etc.)\n",
    "\n",
    "5.Avoid special characters:\n",
    "\n",
    "No @, #, $, %, etc."
   ]
  },
  {
   "cell_type": "markdown",
   "id": "7649619a-2808-42bc-98d7-5a3c5ad4c179",
   "metadata": {},
   "source": [
    "# 18. What is datatype and name of datatypes."
   ]
  },
  {
   "cell_type": "code",
   "execution_count": null,
   "id": "2cf4752c-ebfc-4f65-9a5a-bc21030a8f7f",
   "metadata": {},
   "outputs": [],
   "source": [
    "A datatype tells the computer what kind of data a variable holds, like a number, text, or true/false value.\n",
    "It helps the computer understand how to use that data (e.g., add numbers, join text).\n",
    "example:-\n",
    "age = 25          # int\n",
    "price = 19.99     # float\n",
    "name = \"John\"     # str\n",
    "is_adult = True   # bool\n",
    "numbers = [1, 2, 3] # list"
   ]
  },
  {
   "cell_type": "markdown",
   "id": "347b90d3-d278-4ac7-a2e9-2f67f12c7d8f",
   "metadata": {},
   "source": [
    "# 19. What is keyword in Python?"
   ]
  },
  {
   "cell_type": "code",
   "execution_count": null,
   "id": "7971c7c6-c31d-4e1d-9ead-27c4ffc63d43",
   "metadata": {},
   "outputs": [],
   "source": [
    "A keyword in Python is a special word that has a predefined meaning in the language.\n",
    "You cannot use keywords as variable names, because Python uses them to understand the structure and rules of your code."
   ]
  }
 ],
 "metadata": {
  "kernelspec": {
   "display_name": "Python [conda env:base] *",
   "language": "python",
   "name": "conda-base-py"
  },
  "language_info": {
   "codemirror_mode": {
    "name": "ipython",
    "version": 3
   },
   "file_extension": ".py",
   "mimetype": "text/x-python",
   "name": "python",
   "nbconvert_exporter": "python",
   "pygments_lexer": "ipython3",
   "version": "3.12.7"
  }
 },
 "nbformat": 4,
 "nbformat_minor": 5
}
